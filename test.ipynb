{
 "cells": [
  {
   "cell_type": "code",
   "execution_count": 9,
   "metadata": {},
   "outputs": [],
   "source": [
    "from neuralhedge.data.stochastic import HestonDataset, BlackScholesDataset\n",
    "import matplotlib.pyplot as plt \n",
    "n_sample = 1000\n",
    "n_timestep = 90\n",
    "ds_heston = HestonDataset(n_sample, n_timestep, dt = 1/365)\n",
    "ds_bs = BlackScholesDataset(n_sample, n_timestep, dt = 1/365)\n",
    "# plt.plot(ds_bs.paths[...,0].T)\n",
    "# plt.show()\n",
    "# plt.plot(ds_heston.paths[...,0].T)\n",
    "# plt.show()\n",
    "# plt.figure()\n",
    "# plt.plot(ds_heston.paths[...,1].T)\n",
    "# plt.show()"
   ]
  },
  {
   "cell_type": "code",
   "execution_count": 10,
   "metadata": {},
   "outputs": [],
   "source": [
    "from neuralhedge.nn.contigent import EuropeanVanilla\n",
    "payoff = EuropeanVanilla(strike = 1.1, call = True).payoff(ds_bs.paths[:,-1,0])\n",
    "# plt.scatter(ds_bs.paths[:,-1,0], payoff[:,0])"
   ]
  },
  {
   "cell_type": "code",
   "execution_count": null,
   "metadata": {},
   "outputs": [],
   "source": [
    "info = "
   ]
  }
 ],
 "metadata": {
  "kernelspec": {
   "display_name": "Python 3.8.12 ('deep_hedge')",
   "language": "python",
   "name": "python3"
  },
  "language_info": {
   "codemirror_mode": {
    "name": "ipython",
    "version": 3
   },
   "file_extension": ".py",
   "mimetype": "text/x-python",
   "name": "python",
   "nbconvert_exporter": "python",
   "pygments_lexer": "ipython3",
   "version": "3.8.13"
  },
  "orig_nbformat": 4,
  "vscode": {
   "interpreter": {
    "hash": "d42c10dd17494b873eaf240106df0a13a9aa441e372cea07a522242d1d1c2655"
   }
  }
 },
 "nbformat": 4,
 "nbformat_minor": 2
}

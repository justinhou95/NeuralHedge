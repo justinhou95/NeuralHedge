{
 "cells": [
  {
   "cell_type": "code",
   "execution_count": 3,
   "metadata": {},
   "outputs": [
    {
     "data": {
      "text/plain": [
       "<torch._C.Generator at 0x11d0151f0>"
      ]
     },
     "execution_count": 3,
     "metadata": {},
     "output_type": "execute_result"
    }
   ],
   "source": [
    "import numpy as np\n",
    "import torch\n",
    "\n",
    "from math import ceil\n",
    "import matplotlib.pyplot as plt\n",
    "\n",
    "from neuralhedge.nn import datahedger, contigent, mlp, loss\n",
    "from neuralhedge.market import stochastic\n",
    "from neuralhedge._utils.plotting import plot_pnl, plot_history\n",
    "\n",
    "from importlib import reload\n",
    "reload(stochastic)\n",
    "reload(loss)\n",
    "reload(contigent)\n",
    "reload(datahedger)\n",
    "torch.manual_seed(1)\n"
   ]
  },
  {
   "cell_type": "code",
   "execution_count": 4,
   "metadata": {},
   "outputs": [],
   "source": [
    "n_paths = 5000\n",
    "step_size = 1/365\n",
    "maturity = 30/365\n",
    "n_steps = ceil(maturity / step_size)\n",
    "initial_value = 1.\n",
    "strike = initial_value\n",
    "mu = 0.0\n",
    "sigma = 0.2\n",
    "\n",
    "blackscholes = stochastic.BlackScholes(mu = mu, \n",
    "                            sigma = sigma,\n",
    "                            n_paths = n_paths,\n",
    "                            n_steps = n_steps,\n",
    "                            step_size = step_size)\n",
    "blackscholes.stimulate(initial_value = initial_value)\n",
    "option = contigent.EuropeanVanilla(strike = strike)\n",
    "\n",
    "paths = blackscholes.prices     # (n_paths, n_steps+1, n_asset)\n",
    "information = torch.cat([\n",
    "    torch.log(blackscholes.prices),\n",
    "    blackscholes.times_inverse\n",
    "    ], axis = -1)\n",
    "payoff = option.payoff(blackscholes.prices)   # (n_paths, n_steps+1, 1)\n",
    "\n",
    "n_asset = paths.shape[-1]\n",
    "data_set = [paths, information, payoff]\n"
   ]
  },
  {
   "cell_type": "code",
   "execution_count": null,
   "metadata": {},
   "outputs": [],
   "source": []
  }
 ],
 "metadata": {
  "kernelspec": {
   "display_name": "Python 3.8.13 ('NeuralHedge')",
   "language": "python",
   "name": "python3"
  },
  "language_info": {
   "codemirror_mode": {
    "name": "ipython",
    "version": 3
   },
   "file_extension": ".py",
   "mimetype": "text/x-python",
   "name": "python",
   "nbconvert_exporter": "python",
   "pygments_lexer": "ipython3",
   "version": "3.8.13"
  },
  "orig_nbformat": 4,
  "vscode": {
   "interpreter": {
    "hash": "b96c2603940bea59add7a0a7f7c70d455968e5c5f7ead325ff40c093ec260a37"
   }
  }
 },
 "nbformat": 4,
 "nbformat_minor": 2
}
